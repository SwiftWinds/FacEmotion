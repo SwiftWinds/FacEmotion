{
 "cells": [
  {
   "cell_type": "code",
   "execution_count": 2,
   "id": "a3ec37b3",
   "metadata": {},
   "outputs": [],
   "source": [
    "import cv2 as cv\n",
    "import numpy as np"
   ]
  },
  {
   "cell_type": "code",
   "execution_count": 3,
   "id": "fb79c5ec",
   "metadata": {},
   "outputs": [
    {
     "data": {
      "text/plain": [
       "-1"
      ]
     },
     "execution_count": 3,
     "metadata": {},
     "output_type": "execute_result"
    }
   ],
   "source": [
    "img = cv.imread('happy.jpg') # read image\n",
    "\n",
    "blank = np.zeros((500,500, 3), dtype='uint8')\n",
    "\n",
    "cv.imshow('Happy', img) # Shows window with label Happy and the image\n",
    "\n",
    "blank[:] = 0,255,0\n",
    "cv.imshow('Green', blank)\n",
    "\n",
    "cv.rectangle(blank, (0,0), (blank.shape[1]//2, blank.shape[0]//2), (0,255,0), thickness=cv.FILLED)\n",
    "\n",
    "cv.imshow('Rectangle', blank)\n",
    "\n",
    "cv.circle(blank, (blank.shape[1]//2, blank.shape[0]//2), 40, (0,0,255), thickness=3)\n",
    "\n",
    "cv.imshow('Circle', blank)\n",
    "\n",
    "cv.line(blank, (100, 250), (300,400), (255,255,255), thickness=3)\n",
    "cv.imshow('Line', blank)\n",
    "\n",
    "cv.putText(blank, 'Hello World', (225, 225), cv.FONT_HERSHEY_TRIPLEX, 1.0, (0,255,0), thickness=2)\n",
    "cv.imshow('Text', blank)\n",
    "\n",
    "cv.waitKey(0) # waits for a delay for a key to be pressed, 0 just waits as long as needed\n"
   ]
  },
  {
   "cell_type": "code",
   "execution_count": null,
   "id": "74ee87df",
   "metadata": {},
   "outputs": [],
   "source": [
    "# Convert img to grayscale\n",
    "\n",
    "gray = cv.cvtColor(img, cv.COLOR_BGR2GRAY)\n",
    "cv.imshow('Gray', gray)\n",
    "\n",
    "# Blur image to remove noise\n",
    "\n",
    "blur = cv.GaussianBlur(img, (3,3), cv.BORDER_DEFAULT)\n",
    "cv.imshow('Blur', blur)\n",
    "\n",
    "# Edge Cascade\n",
    "canny = cv.Canny(img, 125, 175)\n",
    "cv.imshow('Canny', canny)"
   ]
  },
  {
   "cell_type": "code",
   "execution_count": null,
   "id": "ea627923",
   "metadata": {},
   "outputs": [],
   "source": [
    "def rescale(frame, scale=0.75):\n",
    "    # works for images, videos, live video\n",
    "    width = int(frame.shape[1] * scale)\n",
    "    height = int(frame.shape[0] * scale)\n",
    "    dimensions = (width, height)\n",
    "    \n",
    "    return cv.resize(frame, dimensions, interpolation=cv.INTER_AREA)"
   ]
  }
 ],
 "metadata": {
  "kernelspec": {
   "display_name": "Python 3",
   "language": "python",
   "name": "python3"
  },
  "language_info": {
   "codemirror_mode": {
    "name": "ipython",
    "version": 3
   },
   "file_extension": ".py",
   "mimetype": "text/x-python",
   "name": "python",
   "nbconvert_exporter": "python",
   "pygments_lexer": "ipython3",
   "version": "3.10.11"
  }
 },
 "nbformat": 4,
 "nbformat_minor": 5
}
