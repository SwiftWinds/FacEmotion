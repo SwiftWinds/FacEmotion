{
 "cells": [
  {
   "cell_type": "code",
   "execution_count": 2,
   "id": "a88f956f",
   "metadata": {},
   "outputs": [],
   "source": [
    "import cv2 as cv\n",
    "import numpy as np\n",
    "import torch\n",
    "import torch.nn as nn\n",
    "import torchvision\n",
    "import glob"
   ]
  },
  {
   "cell_type": "code",
   "execution_count": 1,
   "id": "5fc4787e",
   "metadata": {},
   "outputs": [],
   "source": [
    "imgs = []"
   ]
  },
  {
   "cell_type": "code",
   "execution_count": 4,
   "id": "3f7635c1",
   "metadata": {},
   "outputs": [],
   "source": [
    "# Show all images\n",
    "def show_imgs():\n",
    "    for img in imgs:\n",
    "        cv.imshow(img, cv.imread(img))\n",
    "        cv.waitKey(0)\n",
    "        cv.destroyWindow(img)\n",
    "\n",
    "# Grayscale\n",
    "def show_grayscale():\n",
    "    for img in imgs:\n",
    "        gray = cv.cvtColor(cv.imread(img), cv.COLOR_BGR2GRAY)\n",
    "        cv.imshow(img, gray)\n",
    "        cv.waitKey(0)\n",
    "        cv.destroyWindow(img)\n",
    "\n",
    "def show_canny():\n",
    "    for img in imgs:\n",
    "        canny = cv.Canny(cv.imread(img), 100, 200)\n",
    "        cv.imshow(img, canny)\n",
    "        cv.waitKey(0)\n",
    "        cv.destroyWindow(img)"
   ]
  },
  {
   "cell_type": "code",
   "execution_count": 2,
   "id": "de27d97f",
   "metadata": {},
   "outputs": [
    {
     "ename": "NameError",
     "evalue": "name 'show_imgs' is not defined",
     "output_type": "error",
     "traceback": [
      "\u001b[1;31m---------------------------------------------------------------------------\u001b[0m",
      "\u001b[1;31mNameError\u001b[0m                                 Traceback (most recent call last)",
      "Cell \u001b[1;32mIn[2], line 1\u001b[0m\n\u001b[1;32m----> 1\u001b[0m \u001b[43mshow_imgs\u001b[49m()\n\u001b[0;32m      2\u001b[0m show_grayscale()\n\u001b[0;32m      3\u001b[0m show_canny()\n",
      "\u001b[1;31mNameError\u001b[0m: name 'show_imgs' is not defined"
     ]
    }
   ],
   "source": [
    "# THESE DO NOT WORK AT THE MOMENT\n",
    "show_imgs()\n",
    "show_grayscale()\n",
    "show_canny()"
   ]
  },
  {
   "cell_type": "code",
   "execution_count": 7,
   "id": "b7c56558",
   "metadata": {},
   "outputs": [],
   "source": [
    "class NNet(nn.Module):\n",
    "    def __init__(self, learning_rate, epochs, batch_size, classes=5):\n",
    "        super(NNet, self).__init__()\n",
    "        self.conv1 = nn.Conv2d(1, 32, 3)\n",
    "        self.conv2 = nn.Conv2d(32, 32, 3)\n",
    "        self.bn1 = nn.BatchNorm2d(32)\n",
    "        self.bn2 = nn.BatchNorm2d(32)\n",
    "        self.fc1 = nn.Linear(32*2*2, 64)\n",
    "        self.fc2 = nn.Linear(64, 32)\n",
    "        self.out = nn.Linear(32, 16)\n",
    "        self.pool = nn.MaxPool2d(2, 2)\n",
    "    \n",
    "    # activation\n",
    "    def forward(self, x):\n",
    "        # RELU first convolution, pooling it\n",
    "        x = nn.functional.relu(self.conv1(x))\n",
    "        x = self.pool(x) # 2x2 kernel to \"scan\" image\n",
    "        \n",
    "        # second convolution\n",
    "\n",
    "        x = nn.functional.relu(self.conv2(x))\n",
    "        x = self.pool(x)\n",
    "        \n",
    "        # hidden linear layer\n",
    "        x = x.reshape(-1, 32*2*2)\n",
    "        x = nn.functional.relu(self.fc1(x))\n",
    "\n",
    "        x = nn.functional.relu(self.fc2(x))\n",
    "\n",
    "        return nn.functional.softmax(self.out(x), dim=1)\n",
    "    \n",
    "    "
   ]
  },
  {
   "cell_type": "code",
   "execution_count": null,
   "id": "0cfdc7a0",
   "metadata": {},
   "outputs": [],
   "source": [
    "cnn = NNet(imgs)\n",
    "\n",
    "cross_entropy_loss = nn.functional.cross_entropy()"
   ]
  }
 ],
 "metadata": {
  "kernelspec": {
   "display_name": "Python 3",
   "language": "python",
   "name": "python3"
  },
  "language_info": {
   "codemirror_mode": {
    "name": "ipython",
    "version": 3
   },
   "file_extension": ".py",
   "mimetype": "text/x-python",
   "name": "python",
   "nbconvert_exporter": "python",
   "pygments_lexer": "ipython3",
   "version": "3.10.11"
  }
 },
 "nbformat": 4,
 "nbformat_minor": 5
}
