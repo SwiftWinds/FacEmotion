{
 "cells": [
  {
   "cell_type": "code",
   "execution_count": 1,
   "id": "a88f956f",
   "metadata": {},
   "outputs": [],
   "source": [
    "import cv2 as cv\n",
    "import numpy as np\n",
    "import torch\n",
    "import torch.nn as nn\n",
    "import torchvision\n",
    "import glob"
   ]
  },
  {
   "cell_type": "code",
   "execution_count": 2,
   "id": "72663e19",
   "metadata": {},
   "outputs": [
    {
     "data": {
      "text/plain": [
       "['angry.jpg', 'bored.jpg', 'happy.jpg', 'neutral.jpg', 'tired.jpg']"
      ]
     },
     "execution_count": 2,
     "metadata": {},
     "output_type": "execute_result"
    }
   ],
   "source": [
    "imgs = glob.glob('*.jpg')\n",
    "\n",
    "imgs"
   ]
  },
  {
   "cell_type": "code",
   "execution_count": 3,
   "id": "3f7635c1",
   "metadata": {},
   "outputs": [],
   "source": [
    "# Show all images\n",
    "def show_imgs():\n",
    "    for img in imgs:\n",
    "        cv.imshow(img, cv.imread(img))\n",
    "        cv.waitKey(0)\n",
    "        cv.destroyWindow(img)\n",
    "\n",
    "# Grayscale\n",
    "def show_grayscale():\n",
    "    for img in imgs:\n",
    "        gray = cv.cvtColor(cv.imread(img), cv.COLOR_BGR2GRAY)\n",
    "        cv.imshow(img, gray)\n",
    "        cv.waitKey(0)\n",
    "        cv.destroyWindow(img)"
   ]
  },
  {
   "cell_type": "code",
   "execution_count": 4,
   "id": "de27d97f",
   "metadata": {},
   "outputs": [],
   "source": []
  }
 ],
 "metadata": {
  "kernelspec": {
   "display_name": "Python 3",
   "language": "python",
   "name": "python3"
  },
  "language_info": {
   "codemirror_mode": {
    "name": "ipython",
    "version": 3
   },
   "file_extension": ".py",
   "mimetype": "text/x-python",
   "name": "python",
   "nbconvert_exporter": "python",
   "pygments_lexer": "ipython3",
   "version": "3.10.11"
  }
 },
 "nbformat": 4,
 "nbformat_minor": 5
}
