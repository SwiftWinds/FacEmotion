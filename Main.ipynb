{
 "cells": [
  {
   "cell_type": "code",
   "execution_count": 52,
   "id": "a88f956f",
   "metadata": {},
   "outputs": [],
   "source": [
    "import cv2 as cv\n",
    "import torch\n",
    "import torch.nn as nn\n",
    "import torch.nn.functional as F\n",
    "import torchvision\n",
    "from torchvision import datasets, transforms, utils\n",
    "from torch.utils.data.sampler import SubsetRandomSampler"
   ]
  },
  {
   "cell_type": "code",
   "execution_count": 53,
   "id": "91e4fd7b",
   "metadata": {},
   "outputs": [],
   "source": [
    "transform = transforms.Compose(\n",
    "    [\n",
    "        transforms.Resize((48, 48)),  # Resize images to 48x48\n",
    "        transforms.Grayscale(num_output_channels=1),  # Convert images to grayscale\n",
    "        transforms.ToTensor(),  # Convert images to PyTorch tensors\n",
    "    ]\n",
    ")\n",
    "\n",
    "dataset = datasets.ImageFolder(root=\"./train\", transform=transform)\n",
    "\n",
    "labels = dataset.targets\n",
    "\n",
    "# Define the split ratios\n",
    "train_ratio = 0.7\n",
    "valid_ratio = 0.15\n",
    "test_ratio = 0.15\n",
    "# increase training ratio with more data\n",
    "\n",
    "# Calculate the number of samples for each set\n",
    "total_samples = len(dataset)\n",
    "train_size = int(train_ratio * total_samples)\n",
    "valid_size = int(valid_ratio * total_samples)\n",
    "test_size = total_samples - train_size - valid_size\n",
    "\n",
    "# Create indices for the splits\n",
    "indices = torch.randperm(total_samples)\n",
    "train_indices = indices[:train_size]\n",
    "valid_indices = indices[train_size : train_size + valid_size]\n",
    "test_indices = indices[train_size + valid_size :]\n",
    "\n",
    "\n",
    "# Create data loaders for each split\n",
    "train_loader = torch.utils.data.DataLoader(\n",
    "    dataset, sampler=SubsetRandomSampler(train_indices)\n",
    ")\n",
    "valid_loader = torch.utils.data.DataLoader(\n",
    "    dataset, sampler=SubsetRandomSampler(valid_indices)\n",
    ")\n",
    "test_loader = torch.utils.data.DataLoader(\n",
    "    dataset, sampler=SubsetRandomSampler(test_indices)\n",
    ")"
   ]
  },
  {
   "cell_type": "code",
   "execution_count": 54,
   "id": "b7c56558",
   "metadata": {},
   "outputs": [],
   "source": [
    "class NNet(nn.Module):\n",
    "    def __init__(self, learning_rate=0.001, batch_size=32):\n",
    "        super(NNet, self).__init__()\n",
    "        self.conv1 = nn.Conv2d(1, 48, kernel_size=3)\n",
    "        self.conv2 = nn.Conv2d(48, 48, kernel_size=3)\n",
    "        self.pool = nn.MaxPool2d(3, 3)\n",
    "        self.fc1 = nn.Linear(48 * 4 * 4, 144) # Adjusted output size\n",
    "        self.fc2 = nn.Linear(144, 48) # Corrected input size to match the output of self.fc1\n",
    "        self.out = nn.Linear(48, 24)\n",
    "        self.learning_rate = learning_rate\n",
    "        self.batch_size = batch_size\n",
    "\n",
    "    def forward(self, x):\n",
    "        x = F.relu(self.conv1(x))\n",
    "        x = self.pool(x)\n",
    "        x = F.relu(self.conv2(x))\n",
    "        x = self.pool(x)\n",
    "        x = x.reshape(-1, 48 * 4 * 4) # Corrected reshaping based on the calculated dimensions\n",
    "        x = F.relu(self.fc1(x))\n",
    "        x = F.relu(self.fc2(x))\n",
    "        return F.softmax(self.out(x), dim=1)"
   ]
  },
  {
   "cell_type": "code",
   "execution_count": 55,
   "id": "0cfdc7a0",
   "metadata": {},
   "outputs": [],
   "source": [
    "# train the network\n",
    "emotions = [\"angry\", \"disgusted\", \"fearful\", \"happy\", \"neutral\", \"sad\", \"surprised\"]\n",
    "\n",
    "cnn = NNet()\n",
    "\n",
    "cross_entropy_loss = nn.CrossEntropyLoss()\n",
    "\n",
    "optimizer = torch.optim.SGD(cnn.parameters(), lr=0.001, momentum=0.9)"
   ]
  },
  {
   "cell_type": "code",
   "execution_count": null,
   "id": "9ab0000c",
   "metadata": {},
   "outputs": [],
   "source": [
    "# training data\n",
    "for epoch in range(2):\n",
    "    total_loss = 0.0\n",
    "    for i, data in enumerate(train_loader, 0):\n",
    "        inputs, labels = data\n",
    "        print('Inputs: ', inputs)\n",
    "        print('Labels: ', labels)\n",
    "\n",
    "        # zero parameter gradients\n",
    "        optimizer.zero_grad()\n",
    "\n",
    "        # forward & backward run, SGD\n",
    "        outputs = cnn(inputs)\n",
    "        print('Outputs: ', outputs)\n",
    "        loss = cross_entropy_loss(outputs, labels)\n",
    "        loss.backward()  # how do we get this?\n",
    "        optimizer.step()  # optimization step\n",
    "\n",
    "        # display stats\n",
    "        total_loss += loss.item()\n",
    "        if i % 2000 == 1999:  # print every 2K mini-batches\n",
    "            print(f\"[{epoch + 1}, {i+1:5d}] loss: {loss/2000:.3f}\")\n",
    "            loss = 0.0  # reset loss\n",
    "\n",
    "print(\"Training done\")"
   ]
  },
  {
   "cell_type": "code",
   "execution_count": 57,
   "id": "4331810d",
   "metadata": {},
   "outputs": [],
   "source": [
    "PATH = './cifar_net.pth'\n",
    "torch.save(cnn.state_dict(), PATH)"
   ]
  },
  {
   "cell_type": "code",
   "execution_count": 58,
   "id": "d6a6056d",
   "metadata": {},
   "outputs": [
    {
     "name": "stdout",
     "output_type": "stream",
     "text": [
      "GroundTruth:  angry disgusted fearful happy neutral sad   surprised\n"
     ]
    }
   ],
   "source": [
    "dataiter = iter(test_loader)\n",
    "images, labels = next(dataiter)\n",
    "\n",
    "print('GroundTruth: ', ' '.join(f'{emotions[j]:5s}' for j in range(len(emotions))))"
   ]
  },
  {
   "cell_type": "code",
   "execution_count": 59,
   "id": "e56ea7aa",
   "metadata": {},
   "outputs": [],
   "source": [
    "# Load trained neural network\n",
    "net = NNet()\n",
    "net.load_state_dict(torch.load(PATH))\n",
    "\n",
    "outputs = net(images)"
   ]
  },
  {
   "cell_type": "code",
   "execution_count": 60,
   "id": "5722bebf",
   "metadata": {},
   "outputs": [
    {
     "name": "stdout",
     "output_type": "stream",
     "text": [
      "Predicted:  angry disgusted fearful happy neutral sad   surprised\n"
     ]
    }
   ],
   "source": [
    "_, predicted = torch.max(outputs, 1)\n",
    "\n",
    "print('Predicted: ', ' '.join(f'{emotions[j]:5s}'\n",
    "                              for j in range(len(emotions))))"
   ]
  },
  {
   "cell_type": "code",
   "execution_count": null,
   "id": "6039efc4",
   "metadata": {},
   "outputs": [],
   "source": [
    "# test network accuracy\n",
    "correct = 0\n",
    "total = 0\n",
    "# since we're not training, we don't need to calculate the gradients for our outputs\n",
    "with torch.no_grad():\n",
    "    for data in test_loader:\n",
    "        images, labels = data\n",
    "        # calculate outputs by running images through the network\n",
    "        outputs = net(images)\n",
    "        # the class with the highest energy is what we choose as prediction\n",
    "        _, predicted = torch.max(outputs.data, 1)\n",
    "        total += labels.size(0)\n",
    "        correct += (predicted == labels).sum().item()\n",
    "\n",
    "print(f'Accuracy of the network on the 10000 test images: {100 * correct // total} %')"
   ]
  },
  {
   "cell_type": "code",
   "execution_count": null,
   "id": "25f8368d",
   "metadata": {},
   "outputs": [],
   "source": [
    "# validation\n",
    "\n",
    "# Assuming validation_loader is your validation data loader\n",
    "# and criterion is your loss function\n",
    "\n",
    "def validate(model, validation_loader, criterion):\n",
    "    model.eval()  # Set the model to evaluation mode\n",
    "    validation_loss = 0\n",
    "    correct = 0\n",
    "\n",
    "    with torch.no_grad():  # No need to track gradients in validation\n",
    "        for data, target in validation_loader:\n",
    "            output = model(data)\n",
    "            validation_loss += criterion(output, target).item()  # Sum up batch loss\n",
    "            pred = output.data.max(1, keepdim=True)[1]  # Get the index of the max log-probability\n",
    "            correct += pred.eq(target.data.view_as(pred)).sum().item()\n",
    "\n",
    "    validation_loss /= len(validation_loader.dataset)\n",
    "    validation_accuracy = 100. * correct / len(validation_loader.dataset)\n",
    "\n",
    "    print('\\nValidation set: Average loss: {:.4f}, Accuracy: {}/{} ({:.0f}%)\\n'.format(\n",
    "        validation_loss, correct, len(validation_loader.dataset), validation_accuracy))\n",
    "\n",
    "# Call the function\n",
    "validate(net, valid_loader, criterion)"
   ]
  },
  {
   "cell_type": "code",
   "execution_count": null,
   "id": "2060f7d8",
   "metadata": {},
   "outputs": [],
   "source": [
    "# prepare to count predictions for each class\n",
    "correct_pred = {classname: 0 for classname in emotions}\n",
    "total_pred = {classname: 0 for classname in emotions}\n",
    "\n",
    "# again no gradients needed\n",
    "with torch.no_grad():\n",
    "    for data in test_loader:\n",
    "        images, labels = data\n",
    "        outputs = net(images)\n",
    "        _, predictions = torch.max(outputs, 1)\n",
    "        # collect the correct predictions for each class\n",
    "        for label, prediction in zip(labels, predictions):\n",
    "            if label == prediction:\n",
    "                correct_pred[emotions[label]] += 1\n",
    "            total_pred[emotions[label]] += 1\n",
    "\n",
    "\n",
    "# print accuracy for each class\n",
    "for classname, correct_count in correct_pred.items():\n",
    "    accuracy = 100 * float(correct_count) / total_pred[classname]\n",
    "    print(f'Accuracy for class: {classname:5s} is {accuracy:.1f} %')"
   ]
  },
  {
   "cell_type": "code",
   "execution_count": null,
   "id": "be7d48b8",
   "metadata": {},
   "outputs": [],
   "source": [
    "capture = cv.VideoCapture()\n",
    "success, image = capture.read()\n",
    "\n",
    "pred = net(image)\n",
    "print(pred)\n",
    "\n",
    "import google.generativeai as genai\n",
    "import json\n",
    "\n",
    "genai.configure(api_key=json.load('info.json')['api_key'])\n",
    "\n",
    "# Set up the model\n",
    "generation_config = {\n",
    "  \"temperature\": 1,\n",
    "  \"top_p\": 0.95,\n",
    "  \"top_k\": 0,\n",
    "  \"max_output_tokens\": 8192,\n",
    "}\n",
    "\n",
    "safety_settings = [\n",
    "  {\n",
    "    \"category\": \"HARM_CATEGORY_HARASSMENT\",\n",
    "    \"threshold\": \"BLOCK_MEDIUM_AND_ABOVE\"\n",
    "  },\n",
    "  {\n",
    "    \"category\": \"HARM_CATEGORY_HATE_SPEECH\",\n",
    "    \"threshold\": \"BLOCK_MEDIUM_AND_ABOVE\"\n",
    "  },\n",
    "  {\n",
    "    \"category\": \"HARM_CATEGORY_SEXUALLY_EXPLICIT\",\n",
    "    \"threshold\": \"BLOCK_MEDIUM_AND_ABOVE\"\n",
    "  },\n",
    "  {\n",
    "    \"category\": \"HARM_CATEGORY_DANGEROUS_CONTENT\",\n",
    "    \"threshold\": \"BLOCK_MEDIUM_AND_ABOVE\"\n",
    "  },\n",
    "]\n",
    "\n",
    "model = genai.GenerativeModel(model_name=\"gemini-1.5-pro-latest\",\n",
    "                              generation_config=generation_config,\n",
    "                              safety_settings=safety_settings,\n",
    "                              system_instruction=f\"Suggest how I can improve the mood of this person given that they are {pred}.\")\n",
    "\n",
    "convo = model.start_chat(history=[\n",
    "])\n",
    "\n",
    "convo.send_message(\"\")\n",
    "print(convo.last.text)"
   ]
  },
  {
   "cell_type": "code",
   "execution_count": null,
   "id": "ba3d2b3a",
   "metadata": {},
   "outputs": [
    {
     "name": "stdout",
     "output_type": "stream",
     "text": [
      "cpu\n"
     ]
    }
   ],
   "source": [
    "# adjust device\n",
    "device = torch.device('cuda:0' if torch.cuda.is_available() else 'cpu')\n",
    "\n",
    "print(device)"
   ]
  },
  {
   "cell_type": "code",
   "execution_count": null,
   "id": "3f7635c1",
   "metadata": {},
   "outputs": [],
   "source": [
    "# OpenCV Functions\n",
    "\n",
    "# Show image\n",
    "def show_img(img):\n",
    "    cv.imshow(img, cv.imread(img))\n",
    "    cv.waitKey(0)\n",
    "    cv.destroyWindow(img)\n",
    "\n",
    "\n",
    "# Grayscale\n",
    "def show_grayscale(img):\n",
    "    gray = cv.cvtColor(cv.imread(img), cv.COLOR_BGR2GRAY)\n",
    "    cv.imshow(img, gray)\n",
    "    cv.waitKey(0)\n",
    "    cv.destroyWindow(img)\n",
    "\n",
    "\n",
    "# Edge detection\n",
    "def show_canny(img):\n",
    "    canny = cv.Canny(cv.imread(img), 100, 200)\n",
    "    cv.imshow(img, canny)\n",
    "    cv.waitKey(0)\n",
    "    cv.destroyWindow(img)   "
   ]
  }
 ],
 "metadata": {
  "kernelspec": {
   "display_name": "Python 3",
   "language": "python",
   "name": "python3"
  },
  "language_info": {
   "codemirror_mode": {
    "name": "ipython",
    "version": 3
   },
   "file_extension": ".py",
   "mimetype": "text/x-python",
   "name": "python",
   "nbconvert_exporter": "python",
   "pygments_lexer": "ipython3",
   "version": "3.12.3"
  }
 },
 "nbformat": 4,
 "nbformat_minor": 5
}
