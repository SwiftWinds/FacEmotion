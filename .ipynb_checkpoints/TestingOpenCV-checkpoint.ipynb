{
 "cells": [
  {
   "cell_type": "code",
   "execution_count": 1,
   "id": "a3ec37b3",
   "metadata": {},
   "outputs": [],
   "source": [
    "import cv2 as cv"
   ]
  },
  {
   "cell_type": "code",
   "execution_count": 2,
   "id": "fb79c5ec",
   "metadata": {},
   "outputs": [],
   "source": [
    "img = cv.imread('happy.jpg') # read image\n",
    "\n",
    "cv.imshow('Happy', img) # Shows window with label Happy and the image\n",
    "\n",
    "cv.waitKey(0) # waits for a delay for a key to be pressed, 0 just waits as long as needed\n",
    "\n",
    "def rescale(frame, scale=0.75):\n",
    "    # works for images, videos, live video\n",
    "    width = int(rame.shape[1] * scale)\n",
    "    height = int(e.shape[0] * scale)\n",
    "    dimensions = (width, height)\n",
    "    \n",
    "    return cv.resize(frame, dimensions, interpolation=cv.INTER_AREA)\n"
   ]
  }
 ],
 "metadata": {
  "kernelspec": {
   "display_name": "Python 3",
   "language": "python",
   "name": "python3"
  },
  "language_info": {
   "codemirror_mode": {
    "name": "ipython",
    "version": 3
   },
   "file_extension": ".py",
   "mimetype": "text/x-python",
   "name": "python",
   "nbconvert_exporter": "python",
   "pygments_lexer": "ipython3",
   "version": "3.8.8"
  }
 },
 "nbformat": 4,
 "nbformat_minor": 5
}
